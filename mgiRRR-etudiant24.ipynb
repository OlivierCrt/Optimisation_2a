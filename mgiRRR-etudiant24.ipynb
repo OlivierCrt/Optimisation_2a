{
 "cells": [
  {
   "attachments": {},
   "cell_type": "markdown",
   "metadata": {},
   "source": [
    "\n",
    "#            Calcul numérique du MGI d'un RRR par PNL #\n",
    "\n"
   ]
  },
  {
   "attachments": {},
   "cell_type": "markdown",
   "metadata": {},
   "source": [
    "On se propose de calculer de manière numérique un modèle géométrique inverse (MGI) d'un robot RRR en utilisant les outils de programmation non-linéaire. \n",
    "\n",
    "La configuration du robot est défini par le vecteur $q = (q_1, q_2, q_3)^t$.\n",
    "\n",
    "La situation de l'outil est défini par le vecteur $X = (x, y, \\theta)^t$ ."
   ]
  },
  {
   "attachments": {},
   "cell_type": "markdown",
   "metadata": {},
   "source": [
    "|![alternative text](robot-rrr3.png)|\n",
    "|:--:| \n",
    "| *  Robot RRR  * |"
   ]
  },
  {
   "attachments": {},
   "cell_type": "markdown",
   "metadata": {},
   "source": [
    "## Objectif\n",
    "L'objectif est d'implémenter plusieurs méthodes de recherche de solution pour le calcul du MGI (recherche d'un optimum local), de les comparer et d'en tirer des conclusions. \n",
    "\n",
    "Les conditions de sortie des algorithmes seront définies par un nombre\n",
    "maximum d'itérations et par une valeur seuil pour l'erreur de la fonction objectif.\n",
    "\n",
    "Vous devez définir des fonctions de calcul du mgi: $[q_{sol}]= mgi(X_d, q_0, NbIter, \\epsilon$) avec $X_d$ situation désirée, $q_0$ configuration initiale du robot, $NbIter$ nombre maximum d'itérations, $\\epsilon$ précision du calcul de la solution.\n"
   ]
  },
  {
   "attachments": {},
   "cell_type": "markdown",
   "metadata": {},
   "source": [
    "## Méthodes\n",
    "\n",
    "Pour calculer le MGI avec les outils de programmation non linéaire vous devez implémenter une fonction qui à chaque itération va calculer :\n",
    "\n",
    "***$q_{k+1} = q_k + pas * direction$***\n",
    "\n",
    "\n",
    "Le calcul du $pas$ et de la $direction$ dépend de la méthode mise en œuvre."
   ]
  },
  {
   "attachments": {},
   "cell_type": "markdown",
   "metadata": {},
   "source": [
    "## Evaluation\n",
    "Pour ce TP vous devez déposer un ou deux fichiers au format .ipynb, dont le nom est\n",
    "tpMGI-x-prenom1_nom1-prenom2_nom2.ipynb, le tout en minuscule avec x= 1 ou 2. \n",
    "Vous remplirez vos noms, prénoms de manière correcte. (1 point de malus si le nom du fichier ne suit pas cette forme).\n",
    "\n",
    "Vous devez déposer deux fichier sur Moodle\n",
    "- un en fin de séance avant de quitter la salle avec x=1 (permet de mieux prendre en compte le travail en séance)\n",
    "- un second avant la date indiquée en séance, avec x=2, si vous n'avez pas eu le temps de terminer le TP lors de la séance.\n",
    "\n",
    "La note prend en compte:\n",
    "- Notebook reproductible (marche sans bug sur une machine en python 3.8 sans module particulier et en modifiant les valeurs des paramètres de la fonction mgi)\n",
    "- qualité des réponses aux questions (sur le fond et la forme)\n",
    "- la qualité d'écriture du code (noms de variable clairs, commentaires, code synthétique, etc.)\n",
    "\n"
   ]
  },
  {
   "attachments": {},
   "cell_type": "markdown",
   "metadata": {},
   "source": [
    "## Imports PYTHON"
   ]
  },
  {
   "cell_type": "code",
   "execution_count": 1,
   "metadata": {},
   "outputs": [],
   "source": [
    "#############OBLIGATOIRE ####################################   \n",
    "#%matplotlib inline\n",
    "from matplotlib import cm\n",
    "import matplotlib.pyplot as plt\n",
    "import numpy as np\n",
    "import scipy\n",
    "#### Pour mesure de temps\n",
    "import time\n",
    "#### Pour utiliser les fonctions d'optimisation de scipy.optimize\n",
    "#from scipy.optimize import minimize\n",
    "#from scipy.optimize import ????\n",
    "#from scipy.optimize import ???\n",
    "\n",
    "################ Pour jouer avec la 3D\n",
    "#from mpl_toolkits.mplot3d import axes3d \n",
    "#from mpl_toolkits.mplot3d import proj3d"
   ]
  },
  {
   "attachments": {},
   "cell_type": "markdown",
   "metadata": {},
   "source": [
    "## Calcul du MGD et de la jacobienne analytique Ja\n"
   ]
  },
  {
   "cell_type": "code",
   "execution_count": 15,
   "metadata": {},
   "outputs": [],
   "source": [
    "#################################################   \n",
    "#### Paramètres du robot\n",
    "a,b=10,10\n",
    "#################################################   \n",
    "# Calcul du MGD du robot RRR\n",
    "# INPUT:  q = vecteur de configuration (deg, deg, deg)\n",
    "# OUTPUT: Xc = vecteur de position (x,y,z) de OT\n",
    "def mgd(qdeg):\n",
    "\n",
    "    qrad=np.deg2rad(qdeg)\n",
    "    c1= np.cos(qrad[0])\n",
    "    s1=np.sin(qrad[0])\n",
    "    c23= np.cos(qrad[2]+qrad[1])\n",
    "    s23= np.sin(qrad[2]+qrad[1])\n",
    "    c2=np.cos(qrad[1])\n",
    "    s2=np.sin(qrad[1])\n",
    "    x= a*c1*c2 + b*c1*c23\n",
    "    y= a*s1*c2 + b*s1*c23\n",
    "    z= a*s2 + b*s23\n",
    "    Xd=np.array([x,y,z])\n",
    "    return Xd\n",
    "\n",
    "#################################################   \n",
    "# Calcul de J(q) du robot RRR\n",
    "# INPUT:  q = vecteur de configuration (deg, deg, deg)\n",
    "# OUTPUT: jacobienne(q) analytique:\n",
    "def jacobienne(qdeg):\n",
    "    qrad=np.deg2rad(qdeg)\n",
    "    c1= np.cos(qrad[0])\n",
    "    s1=np.sin(qrad[0])\n",
    "    c23= np.cos(qrad[2]+qrad[1])\n",
    "    s23= np.sin(qrad[2]+qrad[1])\n",
    "    c2=np.cos(qrad[1])\n",
    "    s2=np.sin(qrad[1])\n",
    " \n",
    "    Ja=np.array([[-a*s1*c2 -b*s1*c23, -a*c1*s2 -b*c1*s23,  -b*c1*s23], \n",
    "                [a*c1*c2 + b*c1*c23, -a*s1*s2 -b*s1*s23,  -b*s1*s23], \n",
    "                 [0, a*c2 + b*c23, b*c23]])\n",
    "\n",
    "    return Ja"
   ]
  },
  {
   "cell_type": "code",
   "execution_count": 3,
   "metadata": {},
   "outputs": [
    {
     "name": "stdout",
     "output_type": "stream",
     "text": [
      "X= 6.123233995736766e-16 Y =  10.0 Z=  10.0\n"
     ]
    }
   ],
   "source": [
    "##### Test du MGD\n",
    "# INPUT de q en degré #\n",
    "qdeg = [90, 0, 90]\n",
    "Xd= mgd(qdeg)\n",
    "print(\"X=\", Xd[0], \"Y = \", Xd[1], \"Z= \",Xd[2])"
   ]
  },
  {
   "cell_type": "code",
   "execution_count": 4,
   "metadata": {},
   "outputs": [
    {
     "name": "stdout",
     "output_type": "stream",
     "text": [
      "Ja= [[-1.000000e+01 -6.123234e-16 -6.123234e-16]\n",
      " [ 6.123234e-16 -1.000000e+01 -1.000000e+01]\n",
      " [ 0.000000e+00  1.000000e+01  6.123234e-16]]\n"
     ]
    }
   ],
   "source": [
    "### Test de Ja\n",
    "qdeg = [90, 0, 90]\n",
    "Ja=jacobienne(qdeg)\n",
    "print(\"Ja=\",Ja)"
   ]
  },
  {
   "attachments": {},
   "cell_type": "markdown",
   "metadata": {},
   "source": []
  },
  {
   "attachments": {},
   "cell_type": "markdown",
   "metadata": {},
   "source": [
    "# 1- Méthode du gradient\n",
    "\n",
    "On utilise la méthode du gradient pour minimiser un critère $C(q)= \\frac{1}{2} \\; e^t.e = \\frac{1}{2} \\; \\left\\lVert e \\right\\rVert^{2}$ avec $e= X_d -f(q)$, $f(q)$ correspond au MGD en $q$.\n",
    "\n",
    "- Montrer hors séance que $directionG = -\\nabla C(q) = J(q)^T . e$ (à ne pas mettre dans votre fichier de réponse)\n",
    "\n",
    "- Implémenter la méthode du gradient pour résoudre le  MGI. Tester pour différentes conditions initiales (proches/loin de la solution, proches/loin de singularités. On choisira un coefficient $pas = 0.5$, puis on le fera varier. Quel coefficient semble le plus approprié ? \n",
    "- Tracer la variation de l'erreur. Comment régler le pas afin de garantir une convergence du gradient ? \n",
    "- Proposer et implémenter une solution de calcul automatique du pas.\n",
    "- Conclusions"
   ]
  },
  {
   "cell_type": "code",
   "execution_count": 30,
   "metadata": {},
   "outputs": [
    {
     "name": "stdout",
     "output_type": "stream",
     "text": [
      "Angles finaux et iterations:\n"
     ]
    },
    {
     "data": {
      "text/plain": [
       "(array([-9.16934018e-11, -2.90868584e+01,  1.11911029e+02]), 15)"
      ]
     },
     "execution_count": 30,
     "metadata": {},
     "output_type": "execute_result"
    }
   ],
   "source": [
    "#calcul q optimal pour un pas fixe\n",
    "pas = 0.5\n",
    "q_valeur=[]\n",
    "e_valeur=[]\n",
    "\n",
    "\n",
    "\n",
    "def q_suivant(q_actuel, pas_param=0.5,x_desire=(0,0,0),iterations=0) :\n",
    "    #q_valeurs liste pour print\n",
    "    q_valeur.append(q_actuel)\n",
    "    \n",
    "\n",
    "\n",
    "\n",
    "\n",
    "    #x-mgd= erreur\n",
    "    erreur= x_desire-mgd(q_actuel)\n",
    "    norme_erreur = np.linalg.norm(x_desire-mgd(q_actuel))\n",
    "\n",
    "    e_valeur.append(norme_erreur)\n",
    "\n",
    "\n",
    "    if (norme_erreur < 0.10):\n",
    "              print (\"Angles finaux et iterations:\")\n",
    "              return q_actuel,iterations\n",
    "              #plot\n",
    "              plt.plot(q_valeur,e_valeur,marker ='o')\n",
    "              plt.title(\"graph\")\n",
    "              plt.show()\n",
    "    \n",
    "\n",
    "\n",
    "\n",
    "    q_actuel=q_actuel + pas_param*np.dot(np.transpose(jacobienne(q_actuel)),erreur)\n",
    "    return (q_suivant(q_actuel,pas_param,x_desire,iterations+1))\n",
    "\n",
    "\n",
    "q_suivant((5,5,5),0.5,(10,0,5))\n",
    "        \n",
    "\n",
    "\n",
    "\n",
    "\n",
    "\n"
   ]
  },
  {
   "cell_type": "code",
   "execution_count": null,
   "metadata": {},
   "outputs": [],
   "source": [
    "#################################################\n",
    "# calcul du pas"
   ]
  },
  {
   "cell_type": "code",
   "execution_count": null,
   "metadata": {},
   "outputs": [],
   "source": [
    "############ CALCUL DU MGI ############ \n",
    "def mgi(Xd,qo,Nbiterations, epsilon)\n",
    "\n",
    "###################################################################\n",
    "# calcul de l'erreur erx\n",
    "print(\"Erreur init=\",erx)\n",
    "# Il est conseillé d'afficher l'évolution des vecteurs q, X et de l'erreur => list_erreur = [erx]\n",
    "\n",
    "pas= ????\n",
    "???\n",
    "#################       BOUCLE PRINCIPALE ########################\n",
    "# while (???):\n",
    "#\n",
    "#   A COMPLETER ??????????????????\n",
    "#\n",
    "#############################################################\n",
    "# Visualisation des résultats\n",
    "\n",
    "print(\"Erreur finale=\",erx)\n",
    "################### Afficher l'évolution de votre critére #############################\n",
    "affiche_courbe2D(1,\"Critère d'erreur ....\",...)"
   ]
  },
  {
   "attachments": {},
   "cell_type": "markdown",
   "metadata": {},
   "source": [
    "# 2 - Méthode de Newton\n",
    "\n",
    "On utilise le schéma de Newton pour calculer le MGI du robot en cherchant le zéro de la fonction:\n",
    "\n",
    "$H(q) = X_d - f(q)$ \n",
    "\n",
    "pour une situation désirée $X_d = (x, y,\\theta)^t$ avec $f(q)$ qui correspond au MGD en $q$.\n",
    "Ce schéma impose de calculer l'inverse de la jacobienne analytique.\n",
    "\n",
    "- Montrer hors séance que $directionN = J(q)^{-1} . (X_d - f(q))$ (à ne pas mettre dans votre fichier de réponse)\n",
    "\n",
    "- Implémenter la méthode de Newton en python pour résoudre le MGI. Tester pour différentes conditions initiales(proches/loin de la solution, proches/loin de singularités. Modifier la valeur du $pas$. Faire varier  $N_{max}$ et $\\epsilon$.\n",
    "\n",
    "- Tracer la variation de l'erreur. Conclusions"
   ]
  },
  {
   "attachments": {},
   "cell_type": "markdown",
   "metadata": {},
   "source": [
    "### Utiliser votre code de la partie 1"
   ]
  },
  {
   "cell_type": "code",
   "execution_count": null,
   "metadata": {},
   "outputs": [],
   "source": []
  },
  {
   "cell_type": "code",
   "execution_count": null,
   "metadata": {},
   "outputs": [],
   "source": []
  },
  {
   "attachments": {},
   "cell_type": "markdown",
   "metadata": {},
   "source": [
    "# 3 - Conclusion\n",
    "\n",
    "Donner vos conclusion sur l'utilisation de techniques de PNL pour le calcul de solutions de MGI"
   ]
  },
  {
   "attachments": {},
   "cell_type": "markdown",
   "metadata": {},
   "source": [
    "## Programme de test du MGI\n",
    "\n",
    "Commenter vos résultats pour les 3 cas suivants puis pour deux cas que vous jugez différents\n",
    "- Xbut = [12, 12,10] pour qinit= [-120.,  -25.,  -45.] et qinit= [120.,  25.,  45.]\n",
    "\n",
    "- Xbut= [12, 10,12] et qinit = [90, 0, 0] \n",
    "\n",
    "- Xbut= [9.95, 5.5, 12.5] et qinit de votre choix\n",
    "\n"
   ]
  },
  {
   "cell_type": "code",
   "execution_count": 6,
   "metadata": {},
   "outputs": [],
   "source": [
    "########### Choix de Xbut #################  \n",
    "#\n",
    "qinit = ???\n",
    "Xbut = ???\n",
    "########### Choix de Nbiterations #################  \n",
    "Nbiterations = ??\n",
    "########### Choix de epsilon #################  \n",
    "epsilon= ???\n",
    "########### Calcul du MGI ################# \n",
    "qopt= mgi(Xd,qinit,Nbiterations, epsilon)\n",
    "# Vérification du MGI\n",
    "print(\"Xfinal avec qfinal = \",mgd(qopt)"
   ]
  },
  {
   "attachments": {},
   "cell_type": "markdown",
   "metadata": {},
   "source": [
    "# 4 - Utilisation de scipy.optimize\n",
    "\n",
    "Parmi les fonctions de scipy.optimize, choisir la fonction qui vous semble la meilleure (expliquer pouquoi) permettant de calculer la solutions du MGI et comparer son résultat avec votre fonction mgi."
   ]
  },
  {
   "cell_type": "code",
   "execution_count": null,
   "metadata": {},
   "outputs": [],
   "source": []
  },
  {
   "cell_type": "code",
   "execution_count": null,
   "metadata": {},
   "outputs": [],
   "source": []
  }
 ],
 "metadata": {
  "kernelspec": {
   "display_name": "Python 3 (ipykernel)",
   "language": "python",
   "name": "python3"
  },
  "language_info": {
   "codemirror_mode": {
    "name": "ipython",
    "version": 3
   },
   "file_extension": ".py",
   "mimetype": "text/x-python",
   "name": "python",
   "nbconvert_exporter": "python",
   "pygments_lexer": "ipython3",
   "version": "3.12.2"
  }
 },
 "nbformat": 4,
 "nbformat_minor": 2
}
